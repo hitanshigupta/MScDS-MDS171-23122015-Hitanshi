{
 "cells": [
  {
   "cell_type": "markdown",
   "metadata": {},
   "source": [
    "LAB02 : THE NAME COLLECTOR'S QUEST"
   ]
  },
  {
   "cell_type": "code",
   "execution_count": 20,
   "metadata": {},
   "outputs": [
    {
     "name": "stdout",
     "output_type": "stream",
     "text": [
      "WELCOME TO HARMONYVILLE\n"
     ]
    }
   ],
   "source": [
    "print('WELCOME TO HARMONYVILLE')"
   ]
  },
  {
   "cell_type": "code",
   "execution_count": 21,
   "metadata": {},
   "outputs": [],
   "source": [
    "listname = [] # DECLARING AN EMPTY LIST"
   ]
  },
  {
   "cell_type": "markdown",
   "metadata": {},
   "source": [
    "MISTAKES ALEX CAN MAKE WHILE ENTERING THE NAMES BUT THE VAILDATIONS FOR THE SAME ARE TAKEN CARE OF HERE:-\n",
    "1. ENTERING NAME WITH WHITESPACES \n",
    "2. ENTERING NAME IN ALPHANUMERIC AND/OR WITH SPECIAL CHARACTERS "
   ]
  },
  {
   "cell_type": "code",
   "execution_count": 24,
   "metadata": {},
   "outputs": [],
   "source": [
    "\n",
    "def functionname(): # Defining the function\n",
    "    newname = input('Enter the name:') # Variable to store the villager's name\n",
    "    if newname  == 'q': # Check if entered name is q, if yes then exit after printing\n",
    "        print(listname)\n",
    "        exit\n",
    "    else:\n",
    "        x = newname.isalpha() # Check if the entered name conatins only alphabets and to avoid any mistakes\n",
    "        newname = newname.upper() # Converting them to upper case for easy comparison and readability\n",
    "        if x == True: \n",
    "            if(newname in listname):   # Check for repetition of the eneterd name \n",
    "                print('Name already exists in the list!') \n",
    "            else:\n",
    "                listname.append(newname) # Appending the villager's name to the list                  \n",
    "        else:\n",
    "            print('Kindly enter the name again only with alphabets!!') # Msg if any wrong input is given\n",
    "\n",
    "        listname.sort() # Sorting the final list alphabetically\n",
    "        print(listname) # Printing the final list\n"
   ]
  },
  {
   "cell_type": "code",
   "execution_count": 37,
   "metadata": {},
   "outputs": [
    {
     "name": "stdout",
     "output_type": "stream",
     "text": [
      "['ARSHIKA', 'AVI', 'ESHAAN', 'HITANSHI', 'JANNAT', 'KANISHK', 'PARUL', 'PRAKHAR', 'RITIKA', 'SELINA', 'SIDDHARTH', 'TANISHA']\n"
     ]
    }
   ],
   "source": [
    "functionname() # Calling the function"
   ]
  }
 ],
 "metadata": {
  "kernelspec": {
   "display_name": "Python 3",
   "language": "python",
   "name": "python3"
  },
  "language_info": {
   "codemirror_mode": {
    "name": "ipython",
    "version": 3
   },
   "file_extension": ".py",
   "mimetype": "text/x-python",
   "name": "python",
   "nbconvert_exporter": "python",
   "pygments_lexer": "ipython3",
   "version": "3.11.4"
  },
  "orig_nbformat": 4
 },
 "nbformat": 4,
 "nbformat_minor": 2
}
