{
 "cells": [
  {
   "cell_type": "markdown",
   "metadata": {},
   "source": [
    "LAB02 : THE NAME COLLECTOR'S QUEST"
   ]
  },
  {
   "cell_type": "code",
   "execution_count": 1,
   "metadata": {},
   "outputs": [
    {
     "name": "stdout",
     "output_type": "stream",
     "text": [
      "WELCOME TO HARMONYVILLE\n"
     ]
    }
   ],
   "source": [
    "print('WELCOME TO HARMONYVILLE')"
   ]
  },
  {
   "cell_type": "code",
   "execution_count": 2,
   "metadata": {},
   "outputs": [],
   "source": [
    "listname = [] # DECLARING AN EMPTY LIST"
   ]
  },
  {
   "cell_type": "code",
   "execution_count": 3,
   "metadata": {},
   "outputs": [],
   "source": [
    "\n",
    "def functionname(): # DEFINING FUNCTION\n",
    "    newname = input('Enter the name') # variable to store the villager's name\n",
    "    if newname  == 'q': # Check if entered name is q and exit then\n",
    "        print(listname)\n",
    "        exit\n",
    "    else:\n",
    "        x = newname.isalpha() # Check if the entered name is alpha or not\n",
    "        newname = newname.upper() # Converting them to upper case for easy readability\n",
    "        if x == True: \n",
    "            if(newname in listname):   # Msg if repetition occurs\n",
    "                print('Name already exists in the list!') \n",
    "            else:\n",
    "                listname.append(newname) # Appending if for all cases\n",
    "                #print(listname)                      \n",
    "        else:\n",
    "            print('Kindly enter the name again only with alphabets!!') # Msg if any wrong input is given\n",
    "\n",
    "        listname.sort() # Sorting the final list alphabetically\n",
    "        print(listname) # Printing the final list\n"
   ]
  },
  {
   "cell_type": "code",
   "execution_count": 8,
   "metadata": {},
   "outputs": [
    {
     "name": "stdout",
     "output_type": "stream",
     "text": [
      "['HITANSHI', 'PARUL', 'RITIKA', 'SELINA', 'SIDDHARTH']\n"
     ]
    }
   ],
   "source": [
    "functionname() # Calling the function"
   ]
  }
 ],
 "metadata": {
  "kernelspec": {
   "display_name": "Python 3",
   "language": "python",
   "name": "python3"
  },
  "language_info": {
   "codemirror_mode": {
    "name": "ipython",
    "version": 3
   },
   "file_extension": ".py",
   "mimetype": "text/x-python",
   "name": "python",
   "nbconvert_exporter": "python",
   "pygments_lexer": "ipython3",
   "version": "3.11.4"
  },
  "orig_nbformat": 4
 },
 "nbformat": 4,
 "nbformat_minor": 2
}
