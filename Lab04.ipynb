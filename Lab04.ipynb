{
 "cells": [
  {
   "cell_type": "markdown",
   "metadata": {},
   "source": [
    "A Taste of Success: The Restaurant Management System"
   ]
  },
  {
   "cell_type": "code",
   "execution_count": 97,
   "metadata": {},
   "outputs": [],
   "source": [
    "file = open('Culinary_Delights.txt','a+') # Opening the file in append mode\n",
    "file.write('\\t\\t\\t\\t\\t\\t\\t\\tWelcome to Culinary Delights \\n')\n",
    "file.write('\\t\\t\\t\\t\\t\\t\\t\\t\\t\\t\\t\\t\\t\\tDt 4th Sep 2023 \\n')\n",
    "file.write('\\n MENU \\n') # Displaying the Menu using write()\n",
    "file.write('1 - North Indian Veg Combo: Rs 200 \\n')\n",
    "file.write('2 - North Indian Non-Veg Combo: Rs 500 \\n')\n",
    "file.write('3 - South Indian Combo: Rs 300 \\n')\n",
    "file.write('4 - Continental Veg Combo: Rs 500 \\n')\n",
    "file.write('5 - Continental Non-Veg Combo: Rs 800 \\n')\n",
    "file.close() #closing and saving the changes\n",
    "\n",
    "# Initialising the insight variables\n",
    "order_no = 0\n",
    "ord_count = 0\n",
    "tot_sales = 0\n",
    "avg_sales = 0"
   ]
  },
  {
   "cell_type": "code",
   "execution_count": 104,
   "metadata": {},
   "outputs": [],
   "source": [
    "def orders(name,contact,ord_no,order,qty,rt,total): #defining a function that returns the basic customer and order details \n",
    "    file = open('Culinary_Delights.txt','a+') #opening the file in append mode \n",
    "    file.write('\\n Customer Name: \\t' +name) # Displaying the details using write()\n",
    "    file.write('\\n Customer Contact: \\t' +contact)\n",
    "    file.write('\\n Order No: \\t' +ord_no)\n",
    "    file.write('\\n Combo No: \\t' +order)\n",
    "    file.write('\\n Quantity: \\t' +qty)\n",
    "    file.write('\\n Rate: \\t' +rt)\n",
    "    file.write('\\n Total Amount: \\t' +total)\n",
    "    file.write('\\n')\n",
    "    file.close() #closing and saving the changes\n",
    "    return True # returning the value true \n"
   ]
  },
  {
   "cell_type": "code",
   "execution_count": 105,
   "metadata": {},
   "outputs": [
    {
     "name": "stdout",
     "output_type": "stream",
     "text": [
      "MENU \n",
      "\n",
      "1 - North Indian Veg Combo: Rs 200 \n",
      " 2 - North Indian Non-Veg Combo: Rs 500 \n",
      " 3 - South Indian Combo: Rs 300 \n",
      " 4 - Continental Veg Combo: Rs 500 \n",
      " 5 - Continental Non-Veg Combo: Rs 800 \n",
      "\n"
     ]
    }
   ],
   "source": [
    "name = input('Enter Customers name:') #Taking customer personal details\n",
    "contact = input('Enter contact no.:')\n",
    "\n",
    "print('MENU \\n') #Displaying the Menu \n",
    "a = '1 - North Indian Veg Combo: Rs 200'\n",
    "b = '2 - North Indian Non-Veg Combo: Rs 500'\n",
    "c = '3 - South Indian Combo: Rs 300'\n",
    "d = '4 - Continental Veg Combo: Rs 500'\n",
    "e = '5 - Continental Non-Veg Combo: Rs 800'\n",
    "\n",
    "print( a,'\\n',b,'\\n',c,'\\n',d,'\\n',e,'\\n')\n",
    "order = input('Choose anything from 1-5') #Taking customer order\n",
    "qty = input('Enter the qty') #Taking customer order qty\n",
    "\n",
    "if order == '1' or order == '2' or order == '3' or order == '4' or order == '5':\n",
    "    order_no = order_no + 1 # counter for unique order no.\n",
    "    ord_no = str(order_no) # converting int to string to support concatenation in write()\n",
    "    ord_count = ord_count + 1 # taking order count to display total orders \n",
    "    if order == '1': #assigning rates for each combo chosen\n",
    "        rate = 200 \n",
    "    elif order == '2':\n",
    "        rate = 500\n",
    "    elif order == '3':\n",
    "        rate = 300\n",
    "    elif order == '4':\n",
    "        rate = 500\n",
    "    else:\n",
    "        rate = 800\n",
    "    quan = int(qty)\n",
    "    rt = str(rate)\n",
    "    tot = rate * quan # calculating total amount for a customer\n",
    "    total = str(tot)\n",
    "    tot_sales = tot_sales + tot # calculating total sales for the day\n",
    "else:\n",
    "    print('\\n Make a correct choice')\n"
   ]
  },
  {
   "cell_type": "code",
   "execution_count": 106,
   "metadata": {},
   "outputs": [],
   "source": [
    "\n",
    "ret = orders(name,contact,ord_no,order,qty,rt,total) # function call"
   ]
  },
  {
   "cell_type": "code",
   "execution_count": 107,
   "metadata": {},
   "outputs": [
    {
     "name": "stdout",
     "output_type": "stream",
     "text": [
      "\t\t\t\t\t\t\t\tWelcome to Culinary Delights \n",
      "\n",
      "\t\t\t\t\t\t\t\t\t\t\t\t\t\tDt 4th Sep 2023 \n",
      "\n",
      "\n",
      "\n",
      " MENU \n",
      "\n",
      "1 - North Indian Veg Combo: Rs 200 \n",
      "\n",
      "2 - North Indian Non-Veg Combo: Rs 500 \n",
      "\n",
      "3 - South Indian Combo: Rs 300 \n",
      "\n",
      "4 - Continental Veg Combo: Rs 500 \n",
      "\n",
      "5 - Continental Non-Veg Combo: Rs 800 \n",
      "\n",
      "\n",
      "\n",
      " Customer Name: \tHitanshi\n",
      "\n",
      " Customer Contact: \t9876543210\n",
      "\n",
      " Order No: \t1\n",
      "\n",
      " Combo No: \t4\n",
      "\n",
      " Quantity: \t1\n",
      "\n",
      " Rate: \t500\n",
      "\n",
      " Total Amount: \t500\n",
      "\n",
      "\n",
      "\n",
      " Customer Name: \tParth\n",
      "\n",
      " Customer Contact: \t1234567890\n",
      "\n",
      " Order No: \t2\n",
      "\n",
      " Combo No: \t1\n",
      "\n",
      " Quantity: \t2\n",
      "\n",
      " Rate: \t200\n",
      "\n",
      " Total Amount: \t400\n",
      "\n",
      "\n",
      "\n",
      " Customer Name: \tSelina\n",
      "\n",
      " Customer Contact: \t8765432190\n",
      "\n",
      " Order No: \t3\n",
      "\n",
      " Combo No: \t5\n",
      "\n",
      " Quantity: \t1\n",
      "\n",
      " Rate: \t800\n",
      "\n",
      " Total Amount: \t800\n",
      "\n",
      "\n",
      "\n",
      " ORDER INSIGHTS\n",
      "\n",
      " Total no. of orders for the day: \t 3\n",
      "\n",
      " Total sales for the day: \t Rs1700\n",
      "\n",
      " Avg sales for the day: \t Rs566.6666666666666\n"
     ]
    }
   ],
   "source": [
    "avg_sales = tot_sales / ord_count # calculating avg sales\n",
    "ord_count = str(ord_count) # converting int to string to support concatenation in write()\n",
    "tot_sales = str(tot_sales) # converting int to string to support concatenation in write()\n",
    "avg_sales = str(avg_sales) # converting int to string to support concatenation in write()\n",
    "file = open('Culinary_Delights.txt','a+')\n",
    "file.write('\\n ORDER INSIGHTS')\n",
    "file.write('\\n Total no. of orders for the day: \\t '+ord_count)\n",
    "file.write('\\n Total sales for the day: \\t Rs'+tot_sales)\n",
    "file.write('\\n Avg sales for the day: \\t Rs'+avg_sales)\n",
    "file.close()\n",
    "\n",
    "for line in open('Culinary_Delights.txt','r+').readlines(): #reading all the data in the file and then displaying\n",
    "    print(line)"
   ]
  }
 ],
 "metadata": {
  "kernelspec": {
   "display_name": "Python 3",
   "language": "python",
   "name": "python3"
  },
  "language_info": {
   "codemirror_mode": {
    "name": "ipython",
    "version": 3
   },
   "file_extension": ".py",
   "mimetype": "text/x-python",
   "name": "python",
   "nbconvert_exporter": "python",
   "pygments_lexer": "ipython3",
   "version": "3.11.4"
  },
  "orig_nbformat": 4
 },
 "nbformat": 4,
 "nbformat_minor": 2
}
