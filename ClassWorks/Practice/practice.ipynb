{
 "cells": [
  {
   "cell_type": "markdown",
   "metadata": {},
   "source": [
    "WAP with the following specifications :\n",
    "a function named create_dataset which will take a dictionary, filename, no. of rows as arguments\n",
    "the dictionary is having the following structure: { \"Col name\" : [domain of values]}\n",
    "the function will select random values for each of the domain and create a row \n",
    "the no. of rows that has to be created is the parameter\n",
    "save the file with the required no. of rows\n",
    "load this dataset using pandas and display basic info"
   ]
  },
  {
   "cell_type": "code",
   "execution_count": 1,
   "metadata": {},
   "outputs": [],
   "source": [
    "import random"
   ]
  },
  {
   "cell_type": "code",
   "execution_count": 2,
   "metadata": {},
   "outputs": [],
   "source": [
    "def create_header_dataset(dict,filename):\n",
    "    header = ''\n",
    "    try:\n",
    "        with open (filename,'w') as file:\n",
    "            for i in dict.keys():\n",
    "                header += i + ','\n",
    "            file.write(header[:len(header)-1]+'\\n')\n",
    "#         file.write('Items' + ',' + 'Stationary Items' +',' + 'Animals' + ',' + 'Places' + ',' + 'Names' + ',' + 'Religion' + '\\n')\n",
    "    except:\n",
    "        print('No file found!!')\n",
    "\n",
    "def create_dataset(dict,rows,filename):\n",
    "    \n",
    "    i = 1\n",
    "    while i <= rows:\n",
    "        a = random.choices(dict['Items'])[0]\n",
    "        b = random.choices(dict['Stationary Items'])[0]\n",
    "        c = random.choices(dict['Animals'])[0]\n",
    "        d = random.choices(dict['Places'])[0]\n",
    "        e = random.choices(dict['Names'])[0]\n",
    "        f = random.choices(dict['Religion'])[0]\n",
    "        result = a + ',' + b + ',' + c + ',' + d + ',' + e + ',' + f \n",
    "        try:\n",
    "            with open (filename,'a') as file:\n",
    "                file.write(result+'\\n')\n",
    "        except:\n",
    "            print('No file found!!')\n",
    "        i +=1\n",
    "\n"
   ]
  },
  {
   "cell_type": "code",
   "execution_count": 3,
   "metadata": {},
   "outputs": [],
   "source": [
    "dict = { 'Items' : ['Chips','Chocolate','Frooty','Ice-Cream','Hard-drinks'],\n",
    "        'Stationary Items' : ['Pen','Pencil','Register','Eraser','Sharpner','Markers','Ruler'],\n",
    "        'Animals' : ['Dog','Cat','Parrots','Hamsters'],\n",
    "        'Places' : ['Delhi','Meghalaya','Kolkata','Maharashtra','Gujarat'],\n",
    "        'Names' : ['Swastik','Shubham','Tanisha','Selina','Manish','Kingsuk'],\n",
    "        'Religion' : ['Hindu','Christian','Muslim','Sikh']\n",
    "        }"
   ]
  },
  {
   "cell_type": "code",
   "execution_count": 4,
   "metadata": {},
   "outputs": [],
   "source": [
    "create_header_dataset(dict,'temp.csv')"
   ]
  },
  {
   "cell_type": "code",
   "execution_count": 5,
   "metadata": {},
   "outputs": [],
   "source": [
    "create_dataset(dict,2,'temp.csv')"
   ]
  },
  {
   "cell_type": "code",
   "execution_count": 6,
   "metadata": {},
   "outputs": [],
   "source": [
    "create_dataset(dict,4,'temp.csv')"
   ]
  },
  {
   "cell_type": "code",
   "execution_count": 7,
   "metadata": {},
   "outputs": [],
   "source": [
    "import pandas as pd"
   ]
  },
  {
   "cell_type": "code",
   "execution_count": 8,
   "metadata": {},
   "outputs": [],
   "source": [
    "data = pd.read_csv(\"temp.csv\")"
   ]
  },
  {
   "cell_type": "code",
   "execution_count": 9,
   "metadata": {},
   "outputs": [
    {
     "data": {
      "text/html": [
       "<div>\n",
       "<style scoped>\n",
       "    .dataframe tbody tr th:only-of-type {\n",
       "        vertical-align: middle;\n",
       "    }\n",
       "\n",
       "    .dataframe tbody tr th {\n",
       "        vertical-align: top;\n",
       "    }\n",
       "\n",
       "    .dataframe thead th {\n",
       "        text-align: right;\n",
       "    }\n",
       "</style>\n",
       "<table border=\"1\" class=\"dataframe\">\n",
       "  <thead>\n",
       "    <tr style=\"text-align: right;\">\n",
       "      <th></th>\n",
       "      <th>Items</th>\n",
       "      <th>Stationary Items</th>\n",
       "      <th>Animals</th>\n",
       "      <th>Places</th>\n",
       "      <th>Names</th>\n",
       "      <th>Religion</th>\n",
       "    </tr>\n",
       "  </thead>\n",
       "  <tbody>\n",
       "    <tr>\n",
       "      <th>0</th>\n",
       "      <td>Chocolate</td>\n",
       "      <td>Pen</td>\n",
       "      <td>Hamsters</td>\n",
       "      <td>Kolkata</td>\n",
       "      <td>Manish</td>\n",
       "      <td>Hindu</td>\n",
       "    </tr>\n",
       "    <tr>\n",
       "      <th>1</th>\n",
       "      <td>Ice-Cream</td>\n",
       "      <td>Markers</td>\n",
       "      <td>Cat</td>\n",
       "      <td>Gujarat</td>\n",
       "      <td>Kingsuk</td>\n",
       "      <td>Muslim</td>\n",
       "    </tr>\n",
       "    <tr>\n",
       "      <th>2</th>\n",
       "      <td>Chocolate</td>\n",
       "      <td>Ruler</td>\n",
       "      <td>Hamsters</td>\n",
       "      <td>Gujarat</td>\n",
       "      <td>Selina</td>\n",
       "      <td>Sikh</td>\n",
       "    </tr>\n",
       "    <tr>\n",
       "      <th>3</th>\n",
       "      <td>Chocolate</td>\n",
       "      <td>Ruler</td>\n",
       "      <td>Hamsters</td>\n",
       "      <td>Delhi</td>\n",
       "      <td>Manish</td>\n",
       "      <td>Muslim</td>\n",
       "    </tr>\n",
       "    <tr>\n",
       "      <th>4</th>\n",
       "      <td>Chips</td>\n",
       "      <td>Eraser</td>\n",
       "      <td>Dog</td>\n",
       "      <td>Gujarat</td>\n",
       "      <td>Manish</td>\n",
       "      <td>Muslim</td>\n",
       "    </tr>\n",
       "    <tr>\n",
       "      <th>5</th>\n",
       "      <td>Chips</td>\n",
       "      <td>Register</td>\n",
       "      <td>Dog</td>\n",
       "      <td>Delhi</td>\n",
       "      <td>Swastik</td>\n",
       "      <td>Sikh</td>\n",
       "    </tr>\n",
       "  </tbody>\n",
       "</table>\n",
       "</div>"
      ],
      "text/plain": [
       "       Items Stationary Items   Animals   Places    Names Religion\n",
       "0  Chocolate              Pen  Hamsters  Kolkata   Manish    Hindu\n",
       "1  Ice-Cream          Markers       Cat  Gujarat  Kingsuk   Muslim\n",
       "2  Chocolate            Ruler  Hamsters  Gujarat   Selina     Sikh\n",
       "3  Chocolate            Ruler  Hamsters    Delhi   Manish   Muslim\n",
       "4      Chips           Eraser       Dog  Gujarat   Manish   Muslim\n",
       "5      Chips         Register       Dog    Delhi  Swastik     Sikh"
      ]
     },
     "execution_count": 9,
     "metadata": {},
     "output_type": "execute_result"
    }
   ],
   "source": [
    "data"
   ]
  },
  {
   "cell_type": "code",
   "execution_count": 10,
   "metadata": {},
   "outputs": [
    {
     "data": {
      "text/html": [
       "<div>\n",
       "<style scoped>\n",
       "    .dataframe tbody tr th:only-of-type {\n",
       "        vertical-align: middle;\n",
       "    }\n",
       "\n",
       "    .dataframe tbody tr th {\n",
       "        vertical-align: top;\n",
       "    }\n",
       "\n",
       "    .dataframe thead th {\n",
       "        text-align: right;\n",
       "    }\n",
       "</style>\n",
       "<table border=\"1\" class=\"dataframe\">\n",
       "  <thead>\n",
       "    <tr style=\"text-align: right;\">\n",
       "      <th></th>\n",
       "      <th>Items</th>\n",
       "      <th>Stationary Items</th>\n",
       "      <th>Animals</th>\n",
       "      <th>Places</th>\n",
       "      <th>Names</th>\n",
       "      <th>Religion</th>\n",
       "    </tr>\n",
       "  </thead>\n",
       "  <tbody>\n",
       "    <tr>\n",
       "      <th>count</th>\n",
       "      <td>6</td>\n",
       "      <td>6</td>\n",
       "      <td>6</td>\n",
       "      <td>6</td>\n",
       "      <td>6</td>\n",
       "      <td>6</td>\n",
       "    </tr>\n",
       "    <tr>\n",
       "      <th>unique</th>\n",
       "      <td>3</td>\n",
       "      <td>5</td>\n",
       "      <td>3</td>\n",
       "      <td>3</td>\n",
       "      <td>4</td>\n",
       "      <td>3</td>\n",
       "    </tr>\n",
       "    <tr>\n",
       "      <th>top</th>\n",
       "      <td>Chocolate</td>\n",
       "      <td>Ruler</td>\n",
       "      <td>Hamsters</td>\n",
       "      <td>Gujarat</td>\n",
       "      <td>Manish</td>\n",
       "      <td>Muslim</td>\n",
       "    </tr>\n",
       "    <tr>\n",
       "      <th>freq</th>\n",
       "      <td>3</td>\n",
       "      <td>2</td>\n",
       "      <td>3</td>\n",
       "      <td>3</td>\n",
       "      <td>3</td>\n",
       "      <td>3</td>\n",
       "    </tr>\n",
       "  </tbody>\n",
       "</table>\n",
       "</div>"
      ],
      "text/plain": [
       "            Items Stationary Items   Animals   Places   Names Religion\n",
       "count           6                6         6        6       6        6\n",
       "unique          3                5         3        3       4        3\n",
       "top     Chocolate            Ruler  Hamsters  Gujarat  Manish   Muslim\n",
       "freq            3                2         3        3       3        3"
      ]
     },
     "execution_count": 10,
     "metadata": {},
     "output_type": "execute_result"
    }
   ],
   "source": [
    "data.describe()"
   ]
  },
  {
   "cell_type": "code",
   "execution_count": 11,
   "metadata": {},
   "outputs": [
    {
     "name": "stdout",
     "output_type": "stream",
     "text": [
      "<class 'pandas.core.frame.DataFrame'>\n",
      "RangeIndex: 6 entries, 0 to 5\n",
      "Data columns (total 6 columns):\n",
      " #   Column            Non-Null Count  Dtype \n",
      "---  ------            --------------  ----- \n",
      " 0   Items             6 non-null      object\n",
      " 1   Stationary Items  6 non-null      object\n",
      " 2   Animals           6 non-null      object\n",
      " 3   Places            6 non-null      object\n",
      " 4   Names             6 non-null      object\n",
      " 5   Religion          6 non-null      object\n",
      "dtypes: object(6)\n",
      "memory usage: 420.0+ bytes\n"
     ]
    }
   ],
   "source": [
    "data.info()"
   ]
  },
  {
   "cell_type": "code",
   "execution_count": 12,
   "metadata": {},
   "outputs": [
    {
     "data": {
      "text/plain": [
       "(6, 6)"
      ]
     },
     "execution_count": 12,
     "metadata": {},
     "output_type": "execute_result"
    }
   ],
   "source": [
    "data.shape"
   ]
  },
  {
   "cell_type": "code",
   "execution_count": 13,
   "metadata": {},
   "outputs": [
    {
     "data": {
      "text/html": [
       "<div>\n",
       "<style scoped>\n",
       "    .dataframe tbody tr th:only-of-type {\n",
       "        vertical-align: middle;\n",
       "    }\n",
       "\n",
       "    .dataframe tbody tr th {\n",
       "        vertical-align: top;\n",
       "    }\n",
       "\n",
       "    .dataframe thead th {\n",
       "        text-align: right;\n",
       "    }\n",
       "</style>\n",
       "<table border=\"1\" class=\"dataframe\">\n",
       "  <thead>\n",
       "    <tr style=\"text-align: right;\">\n",
       "      <th></th>\n",
       "      <th>Items</th>\n",
       "      <th>Stationary Items</th>\n",
       "      <th>Animals</th>\n",
       "      <th>Places</th>\n",
       "      <th>Names</th>\n",
       "      <th>Religion</th>\n",
       "    </tr>\n",
       "  </thead>\n",
       "  <tbody>\n",
       "    <tr>\n",
       "      <th>0</th>\n",
       "      <td>False</td>\n",
       "      <td>False</td>\n",
       "      <td>False</td>\n",
       "      <td>False</td>\n",
       "      <td>False</td>\n",
       "      <td>False</td>\n",
       "    </tr>\n",
       "    <tr>\n",
       "      <th>1</th>\n",
       "      <td>False</td>\n",
       "      <td>False</td>\n",
       "      <td>False</td>\n",
       "      <td>False</td>\n",
       "      <td>False</td>\n",
       "      <td>False</td>\n",
       "    </tr>\n",
       "    <tr>\n",
       "      <th>2</th>\n",
       "      <td>False</td>\n",
       "      <td>False</td>\n",
       "      <td>False</td>\n",
       "      <td>False</td>\n",
       "      <td>False</td>\n",
       "      <td>False</td>\n",
       "    </tr>\n",
       "    <tr>\n",
       "      <th>3</th>\n",
       "      <td>False</td>\n",
       "      <td>False</td>\n",
       "      <td>False</td>\n",
       "      <td>False</td>\n",
       "      <td>False</td>\n",
       "      <td>False</td>\n",
       "    </tr>\n",
       "    <tr>\n",
       "      <th>4</th>\n",
       "      <td>False</td>\n",
       "      <td>False</td>\n",
       "      <td>False</td>\n",
       "      <td>False</td>\n",
       "      <td>False</td>\n",
       "      <td>False</td>\n",
       "    </tr>\n",
       "    <tr>\n",
       "      <th>5</th>\n",
       "      <td>False</td>\n",
       "      <td>False</td>\n",
       "      <td>False</td>\n",
       "      <td>False</td>\n",
       "      <td>False</td>\n",
       "      <td>False</td>\n",
       "    </tr>\n",
       "  </tbody>\n",
       "</table>\n",
       "</div>"
      ],
      "text/plain": [
       "   Items  Stationary Items  Animals  Places  Names  Religion\n",
       "0  False             False    False   False  False     False\n",
       "1  False             False    False   False  False     False\n",
       "2  False             False    False   False  False     False\n",
       "3  False             False    False   False  False     False\n",
       "4  False             False    False   False  False     False\n",
       "5  False             False    False   False  False     False"
      ]
     },
     "execution_count": 13,
     "metadata": {},
     "output_type": "execute_result"
    }
   ],
   "source": [
    "data.isnull()"
   ]
  }
 ],
 "metadata": {
  "kernelspec": {
   "display_name": "Python 3",
   "language": "python",
   "name": "python3"
  },
  "language_info": {
   "codemirror_mode": {
    "name": "ipython",
    "version": 3
   },
   "file_extension": ".py",
   "mimetype": "text/x-python",
   "name": "python",
   "nbconvert_exporter": "python",
   "pygments_lexer": "ipython3",
   "version": "3.11.4"
  }
 },
 "nbformat": 4,
 "nbformat_minor": 2
}
