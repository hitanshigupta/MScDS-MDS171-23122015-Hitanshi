{
 "cells": [
  {
   "cell_type": "markdown",
   "metadata": {},
   "source": [
    "LAB 03: The Tale of Numbers' Harmony"
   ]
  },
  {
   "cell_type": "code",
   "execution_count": 4,
   "metadata": {},
   "outputs": [
    {
     "name": "stdout",
     "output_type": "stream",
     "text": [
      "The list is \n",
      " [761, 123, 585, 275, 194, 840, 999, 622, 763, 40, 825, 687, 402, 338, 611, 987, 739, 95, 819, 568, 320, 126, 688, 948, 514, 223, 751, 379, 857, 767, 492, 162, 437, 934, 430, 343, 725, 511, 580, 678, 708, 823, 346, 179, 786, 663, 195, 890, 267, 502, 214, 300, 786, 961, 235, 559, 992, 919, 948, 318, 57, 787, 653, 317, 305, 172, 966, 182, 970, 17, 89, 624, 629, 595, 485, 752, 984, 978, 460, 124, 321, 256, 614, 852, 811, 561, 127, 207, 406, 615, 888, 391, 691, 470, 911, 401, 137, 600, 478, 682]\n",
      "\n",
      "\n"
     ]
    }
   ],
   "source": [
    "# Defining a list\n",
    "\n",
    "list = [761, 123, 585, 275, 194, 840, 999, 622, 763, 40, 825, 687, 402, 338, 611, 987, 739, 95, 819, \n",
    "        568, 320, 126, 688, 948, 514, 223, 751, 379, 857, 767, 492, 162, 437, 934, 430, 343, 725, 511, \n",
    "        580, 678, 708, 823, 346, 179, 786, 663, 195, 890, 267, 502, 214, 300, 786, 961, 235, 559, 992, \n",
    "        919, 948, 318, 57, 787, 653, 317, 305, 172, 966, 182, 970, 17, 89, 624, 629, 595, 485, 752, 984,\n",
    "        978, 460, 124, 321, 256, 614, 852, 811, 561, 127, 207, 406, 615, 888, 391, 691, 470, 911, 401, 137, 600, 478, 682]\n",
    "\n",
    "print('The list is \\n', list)\n",
    "print('\\n')"
   ]
  },
  {
   "cell_type": "code",
   "execution_count": 5,
   "metadata": {},
   "outputs": [
    {
     "name": "stdout",
     "output_type": "stream",
     "text": [
      "The mean is: 542.94\n",
      "The maximum value is: 999\n",
      "The minimum value is: 17\n",
      "The range is: 982\n"
     ]
    }
   ],
   "source": [
    "\n",
    "# WITHOUT THE USE OF IN-BUILT FUNCTIONS\n",
    "\n",
    "def funct1(num): # Defining the function\n",
    "    \n",
    "    sum = 0 # sum variable to store the sum of elements\n",
    "    len = 0 # len variable to store the length of elements\n",
    "    mean = 0 # mean variable to store the average\n",
    "    max = num[0] # max variable to store the maximum variable, assigned it to the first element\n",
    "    min = num[0] # min variable to store the minimum variable, assigned it to the first element\n",
    "    ran = 0 # ran variable to store the range\n",
    "\n",
    "    for i in num: # used to access the element one by one\n",
    "        sum = sum + i\n",
    "        len = len + 1\n",
    "        if max < i: # comparing max value in each iteration \n",
    "            max = i\n",
    "        if min > i: # comparing min value in each iteration \n",
    "            min = i    \n",
    "      \n",
    "    mean = sum / len # mean = sum of observations / no. of observations\n",
    "    ran = max - min # range =  max value - min value\n",
    "    return(sum, len, mean,max, min,ran) \n",
    "\n",
    "sum, len, mean, max, min, ran = funct1(list)\n",
    "print('The mean is:',mean)\n",
    "print('The maximum value is:',max)\n",
    "print('The minimum value is:',min)\n",
    "print('The range is:',ran)\n"
   ]
  },
  {
   "cell_type": "code",
   "execution_count": 1,
   "metadata": {},
   "outputs": [
    {
     "name": "stdout",
     "output_type": "stream",
     "text": [
      "The list is \n",
      " [761, 123, 585, 275, 194, 840, 999, 622, 763, 40, 825, 687, 402, 338, 611, 987, 739, 95, 819, 568, 320, 126, 688, 948, 514, 223, 751, 379, 857, 767, 492, 162, 437, 934, 430, 343, 725, 511, 580, 678, 708, 823, 346, 179, 786, 663, 195, 890, 267, 502, 214, 300, 786, 961, 235, 559, 992, 919, 948, 318, 57, 787, 653, 317, 305, 172, 966, 182, 970, 17, 89, 624, 629, 595, 485, 752, 984, 978, 460, 124, 321, 256, 614, 852, 811, 561, 127, 207, 406, 615, 888, 391, 691, 470, 911, 401, 137, 600, 478, 682]\n",
      "\n",
      "\n"
     ]
    }
   ],
   "source": [
    "# Defining a list\n",
    "\n",
    "list = [761, 123, 585, 275, 194, 840, 999, 622, 763, 40, 825, 687, 402, 338, 611, 987, 739, 95, 819, \n",
    "        568, 320, 126, 688, 948, 514, 223, 751, 379, 857, 767, 492, 162, 437, 934, 430, 343, 725, 511, \n",
    "        580, 678, 708, 823, 346, 179, 786, 663, 195, 890, 267, 502, 214, 300, 786, 961, 235, 559, 992, \n",
    "        919, 948, 318, 57, 787, 653, 317, 305, 172, 966, 182, 970, 17, 89, 624, 629, 595, 485, 752, 984,\n",
    "        978, 460, 124, 321, 256, 614, 852, 811, 561, 127, 207, 406, 615, 888, 391, 691, 470, 911, 401, 137, 600, 478, 682]\n",
    "\n",
    "print('The list is \\n', list)\n",
    "print('\\n')"
   ]
  },
  {
   "cell_type": "code",
   "execution_count": 3,
   "metadata": {},
   "outputs": [
    {
     "name": "stdout",
     "output_type": "stream",
     "text": [
      "The mean is: 542.94\n",
      "The maximum value is: 999\n",
      "The minimum value is: 17\n",
      "The range is: 982\n"
     ]
    }
   ],
   "source": [
    "# USING IN-BUILT FUNCTIONS\n",
    "\n",
    "def func(num):\n",
    "    num.sort() # To sort the list in ascending order\n",
    "    Len = len(num) # len() function to find list length\n",
    "    total = 0  # To store the sum\n",
    "    Max = 0\n",
    "    Min = 0\n",
    "    mean = 0\n",
    "    ran = 0\n",
    "\n",
    "    total = sum(num) # sum() function to get the sum\n",
    "    mean = total / Len \n",
    "    Max = max(num) # max() function to get maximum value\n",
    "    Min = min(num) # min() function to get minimum value\n",
    "    ran = Max - Min\n",
    "\n",
    "    return(Len,total,mean,Max,Min,ran)\n",
    "\n",
    "Len, total, mean, Max, Min, ran = func(list)\n",
    "print('The mean is:',mean)\n",
    "print('The maximum value is:',Max)\n",
    "print('The minimum value is:',Min)\n",
    "print('The range is:',ran)"
   ]
  }
 ],
 "metadata": {
  "kernelspec": {
   "display_name": "Python 3",
   "language": "python",
   "name": "python3"
  },
  "language_info": {
   "codemirror_mode": {
    "name": "ipython",
    "version": 3
   },
   "file_extension": ".py",
   "mimetype": "text/x-python",
   "name": "python",
   "nbconvert_exporter": "python",
   "pygments_lexer": "ipython3",
   "version": "3.11.4"
  },
  "orig_nbformat": 4
 },
 "nbformat": 4,
 "nbformat_minor": 2
}
