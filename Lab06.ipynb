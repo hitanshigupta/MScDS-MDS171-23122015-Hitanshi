{
 "cells": [
  {
   "cell_type": "markdown",
   "metadata": {},
   "source": [
    "Vowel Counter!"
   ]
  },
  {
   "cell_type": "code",
   "execution_count": 38,
   "metadata": {},
   "outputs": [],
   "source": [
    "string = input('Enter any string:') # ACCEPTING A STRING"
   ]
  },
  {
   "cell_type": "code",
   "execution_count": 39,
   "metadata": {},
   "outputs": [],
   "source": [
    "\n",
    "def string_vow_process(final): #DEFINING A FUNCTION THAT TAKES THE STRING AS ITS PARAMETER\n",
    "\n",
    "    final = final.strip() #REMOVING ALL THE LEADING/TRAILING WHITESPACES\n",
    "    final = final.lower() #CONVERTING THE STRING TO LOWER-CASE FOR CHECKING THE VOWEL COUNTS\n",
    "    length = len(final) #GETTING THE LENGTH OF THE STRING i.e No. of characters in the string\n",
    "    count = 0 #Varible to store the total count of vowels\n",
    "    a_count = 0 #Variable to store the count of 'a'\n",
    "    e_count = 0 #Variable to store the count of 'e'\n",
    "    i_count = 0 #Variable to store the count of 'i'\n",
    "    o_count = 0 #Variable to store the count of 'o'\n",
    "    u_count = 0 #Variable to store the count of 'u'\n",
    "\n",
    "    for i in range(length): #iterating through the entire string\n",
    "        if (final[i] == 'a' or final[i] == 'e' or final[i] == 'i' or final[i] == 'o' or final[i] == 'u'): # Checking for the presence of any vowel\n",
    "            count += 1 #incrementing count whenever one is found\n",
    "\n",
    "    for x in range(length):\n",
    "        if final[x] == 'a': #Checking for the presence of vowel 'a'\n",
    "            a_count += 1 #incrementing counter variable for a \n",
    "        elif final[x] == 'e': #Checking for the presence of vowel 'e'\n",
    "            e_count += 1 #incrementing counter variable for e \n",
    "        elif final[x] == 'i': #Checking for the presence of vowel 'i'\n",
    "            i_count += 1 #incrementing counter variable for i\n",
    "        elif final[x] == 'o': #Checking for the presence of vowel 'o'\n",
    "            o_count += 1 #incrementing counter variable for o\n",
    "        elif final[x] == 'u': #Checking for the presence of vowel 'u' \n",
    "            u_count += 1 #incrementing counter variable for u\n",
    "\n",
    "    per = float(count/length)*100 # calculating the percentage of all the vowels and type-casting to float to include decimals\n",
    "\n",
    "    return final,length,count,a_count,e_count,i_count,o_count,u_count,per #returning all the required parameters\n"
   ]
  },
  {
   "cell_type": "code",
   "execution_count": 40,
   "metadata": {},
   "outputs": [
    {
     "name": "stdout",
     "output_type": "stream",
     "text": [
      "The user entered string is: HELLO, my name is Hitanshi Gupta. \n",
      "\n",
      "The total count of vowels are 10\n",
      "The total no. of characters in the string are 33 \n",
      "\n",
      "The occurrences of a are 3\n",
      "The occurrences of e are 2\n",
      "The occurrences of i are 3\n",
      "The occurrences of o are 1\n",
      "The occurrences of u are 1 \n",
      "\n",
      "The percentage of vowels in the entered string is 30.303030303030305 %\n"
     ]
    }
   ],
   "source": [
    "print('The user entered string is:',string,'\\n')\n",
    "final,length,count,a_count,e_count,i_count,o_count,u_count,per = string_vow_process(string) #function call + displaying all necessary details\n",
    "print('The total count of vowels are',count)\n",
    "print('The total no. of characters in the string are',length, '\\n')\n",
    "print('The occurrences of a are',a_count)\n",
    "print('The occurrences of e are',e_count)\n",
    "print('The occurrences of i are',i_count)\n",
    "print('The occurrences of o are',o_count)\n",
    "print('The occurrences of u are',u_count,'\\n')\n",
    "print('The percentage of vowels in the entered string is',per,'%')"
   ]
  }
 ],
 "metadata": {
  "kernelspec": {
   "display_name": "Python 3",
   "language": "python",
   "name": "python3"
  },
  "language_info": {
   "codemirror_mode": {
    "name": "ipython",
    "version": 3
   },
   "file_extension": ".py",
   "mimetype": "text/x-python",
   "name": "python",
   "nbconvert_exporter": "python",
   "pygments_lexer": "ipython3",
   "version": "3.11.4"
  },
  "orig_nbformat": 4
 },
 "nbformat": 4,
 "nbformat_minor": 2
}
